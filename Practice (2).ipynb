{
  "nbformat": 4,
  "nbformat_minor": 0,
  "metadata": {
    "colab": {
      "name": "Practice.ipynb",
      "provenance": []
    },
    "kernelspec": {
      "name": "python3",
      "display_name": "Python 3"
    },
    "language_info": {
      "name": "python"
    }
  },
  "cells": [
    {
      "cell_type": "code",
      "metadata": {
        "id": "FvoCJo0b9fDY"
      },
      "source": [
        "freelancers = {'name':'freelancing Shop','brian': 70, 'black knight':20, 'biccus diccus':100, 'grim reaper':500, 'minstrel':-15}\n",
        "antiques = {'name':'Antique Shop','french castle':400, 'wooden grail':3, 'scythe':150, 'catapult':75, 'german joke':5}\n",
        "pet_shop = {'name':'Pet Shop','blue parrot':10, 'white rabbit':5, 'newt': 2}\n",
        "\n",
        "#create an dempty shopping cart\n",
        "cart = {}\n",
        "#loop through stores/dicts\n",
        "for key in (freelancers,antiques,pet_shop) :\n",
        "    #inputbox  to show what you can buy...capture textstring of what was bought...make lowercase\n",
        "    buy_item = input(f'Welcome to {key[\"name\"]}! what do you want to buy: {key}')\n",
        "    #update the cart\n",
        "    cart.update({buy_item:key.pop(buy_item)}) # use pop...\n",
        "print(f'You Purchased {\", \".join(list(cart.keys()))} Today it is all free. Have a nice day of mayhem!')"
      ],
      "execution_count": null,
      "outputs": []
    },
    {
      "cell_type": "code",
      "metadata": {
        "id": "cD-5W0z6gAGW"
      },
      "source": [
        "print('Lambdas Exercise')\n",
        "\n",
        "#def f(x): return x + 5\n",
        "f = lambda x:x+5 #insert equivalent lambda here\n",
        "print(f(2))"
      ],
      "execution_count": null,
      "outputs": []
    },
    {
      "cell_type": "code",
      "metadata": {
        "id": "gOflV1d4gISK"
      },
      "source": [
        "print('Lambdas Exercise')\n",
        "\n",
        "\n",
        "#def strip_spaces(str):\n",
        "   #return ''.join(str.split(' '))\n",
        "#write equivalent lambda and insert Lambda here\n",
        "strip_spaces1 = lambda str: ''.join(str.split(' '))   \n",
        "print(strip_spaces1('Monty Pythons Flying Circus')) "
      ],
      "execution_count": null,
      "outputs": []
    }
  ]
}