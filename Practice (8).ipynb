{
  "nbformat": 4,
  "nbformat_minor": 0,
  "metadata": {
    "colab": {
      "name": "Practice.ipynb",
      "provenance": []
    },
    "kernelspec": {
      "name": "python3",
      "display_name": "Python 3"
    },
    "language_info": {
      "name": "python"
    }
  },
  "cells": [
    {
      "cell_type": "code",
      "metadata": {
        "id": "FvoCJo0b9fDY"
      },
      "source": [
        "freelancers = {'name':'freelancing Shop','brian': 70, 'black knight':20, 'biccus diccus':100, 'grim reaper':500, 'minstrel':-15}\n",
        "antiques = {'name':'Antique Shop','french castle':400, 'wooden grail':3, 'scythe':150, 'catapult':75, 'german joke':5}\n",
        "pet_shop = {'name':'Pet Shop','blue parrot':10, 'white rabbit':5, 'newt': 2}\n",
        "\n",
        "#create an dempty shopping cart\n",
        "cart = {}\n",
        "#loop through stores/dicts\n",
        "for key in (freelancers,antiques,pet_shop) :\n",
        "    #inputbox  to show what you can buy...capture textstring of what was bought...make lowercase\n",
        "    buy_item = input(f'Welcome to {key[\"name\"]}! what do you want to buy: {key}')\n",
        "    #update the cart\n",
        "    cart.update({buy_item:key.pop(buy_item)}) # use pop...\n",
        "print(f'You Purchased {\", \".join(list(cart.keys()))} Today it is all free. Have a nice day of mayhem!')"
      ],
      "execution_count": null,
      "outputs": []
    },
    {
      "cell_type": "code",
      "metadata": {
        "id": "cD-5W0z6gAGW"
      },
      "source": [
        "print('Lambdas Exercise')\n",
        "\n",
        "#def f(x): return x + 5\n",
        "f = lambda x:x+5 #insert equivalent lambda here\n",
        "print(f(2))"
      ],
      "execution_count": null,
      "outputs": []
    },
    {
      "cell_type": "code",
      "metadata": {
        "id": "gOflV1d4gISK"
      },
      "source": [
        "print('Lambdas Exercise')\n",
        "\n",
        "\n",
        "#def strip_spaces(str):\n",
        "   #return ''.join(str.split(' '))\n",
        "#write equivalent lambda and insert Lambda here\n",
        "strip_spaces1 = lambda str: ''.join(str.split(' '))   \n",
        "print(strip_spaces1('Monty Pythons Flying Circus')) "
      ],
      "execution_count": null,
      "outputs": []
    },
    {
      "cell_type": "code",
      "metadata": {
        "id": "ScQU0wJ3gPO3"
      },
      "source": [
        "print('Lambdas Exercise')\n",
        "\n",
        "#def join_list_no_duplicates(list_a,list_b):\n",
        "   #return list(set(list_a + list_b))\n",
        "list_a = [1,2,3,4]\n",
        "list_b = [3,4,5,6,7]\n",
        "#write lambda below \n",
        "join_list_no_duplicates1 = lambda list_a, list_b: list(set(list_a + list_b))\n",
        "print(join_list_no_duplicates1(list_a,list_b))"
      ],
      "execution_count": null,
      "outputs": []
    },
    {
      "cell_type": "code",
      "metadata": {
        "id": "RifqcieagV_R"
      },
      "source": [
        "print('Lambdas Exercise')\n",
        "\n",
        "#Complete the function so it returns a function\n",
        "def create_quad_func(a,b,c):\n",
        "    '''return function f(x) = ax^2 + bx + c'''\n",
        "    return lambda x:a * x**2 + b * x + c\n",
        "f = create_quad_func(2,4,6)\n",
        "g = create_quad_func(5,7,10)\n",
        "print(f(2))\n",
        "print(g(2))"
      ],
      "execution_count": null,
      "outputs": []
    },
    {
      "cell_type": "code",
      "metadata": {
        "id": "WxJ87ztPgdhD"
      },
      "source": [
        "print('Lambdas Exercise')\n",
        "\n",
        "\n",
        "signups = ['MPF104', 'MPF20', 'MPF2', 'MPF17', 'MPF3', 'MPF45']\n",
        "print(sorted(signups)) # Lexicographic sort\n",
        "#write sorting by integer\n",
        "print(sorted(signups, key = lambda id:id[3: ])) "
      ],
      "execution_count": null,
      "outputs": []
    },
    {
      "cell_type": "code",
      "metadata": {
        "id": "fD-Mb97ogj7U"
      },
      "source": [
        "print('Lambdas Exercise')\n",
        "\n",
        "class Player:\n",
        "   def __init__(self, name, score):\n",
        "       self.name = name\n",
        "       self.score =  score\n",
        "\n",
        "Eric = Player('Eric', 116700)\n",
        "John = Player('John', 24327)\n",
        "Terry = Player('Terry', 150000)\n",
        "player_list = [Eric, John, Terry]\n",
        "#Exercise: Sort this by score using lambda!\n",
        "#write code here\n",
        "player_list.sort(key = lambda play:play.score)\n",
        "print([player.name for player in player_list])"
      ],
      "execution_count": null,
      "outputs": []
    },
    {
      "cell_type": "code",
      "metadata": {
        "id": "Snbr2IfT7sD7"
      },
      "source": [
        "def enigma_light():\n",
        "# create keys string\n",
        "    keys = 'abcdefghijklmnopqrstuvwxyz !'\n",
        "# autogenerate the values string by offsetting original string\n",
        "    values = keys[-1] + keys[0:-1]\n",
        "    print(keys)\n",
        "    print(values)\n",
        "# create two dictionaries\n",
        "    d1 = dict(zip(keys,values))\n",
        "    d2 = dict(zip(values,keys))\n",
        "#user input 'the message' and mode\n",
        "    message = input(\"Enter you message: \")\n",
        "    mode = input(\"Enter e for encryption or de for decryption: \")\n",
        "# run encode or decode\n",
        "    if mode.lower() == 'e':\n",
        "          msg1 = ''.join([d1[letter] for letter in message.lower()])\n",
        "    elif mode.lower() == 'd':\n",
        "          msg1 = ''.join([d2[letter] for letter in message.lower()])      \n",
        "# return result\n",
        "    return msg1.capitalize()\n",
        "# clean and beautify the code \n",
        "\n",
        "print(enigma_light())"
      ],
      "execution_count": null,
      "outputs": []
    },
    {
      "cell_type": "code",
      "metadata": {
        "id": "L1IREhFME35o"
      },
      "source": [
        "#import modules\n",
        "from  random import randrange as r \n",
        "# ask how many questions user wants\n",
        "no_questions = int(input('How many questions do you want?: '))\n",
        "#set score start at zero\n",
        "score = 0\n",
        "#loop through number of questions\n",
        "for q in range(no_questions):\n",
        "    num1,num2 = r(1,11),r(1,11)\n",
        "    ans = num1 * num2\n",
        "    u_ans =int(input(f'{num1} X {num2} = '))\n",
        "    if u_ans == ans:\n",
        "        score += 1\n",
        "print(f'Thank you for playing! \\nYou got {score} out of {no_questions} {round(score/no_questions*100)}%)')"
      ],
      "execution_count": null,
      "outputs": []
    }
  ]
}